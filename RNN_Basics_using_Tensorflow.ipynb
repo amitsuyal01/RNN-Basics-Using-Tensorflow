{
  "nbformat": 4,
  "nbformat_minor": 0,
  "metadata": {
    "colab": {
      "name": "RNN Basics using Tensorflow.ipynb",
      "provenance": [],
      "collapsed_sections": [],
      "toc_visible": true
    },
    "kernelspec": {
      "name": "python3",
      "display_name": "Python 3"
    }
  },
  "cells": [
    {
      "cell_type": "markdown",
      "metadata": {
        "id": "eZxB0mEhdv39",
        "colab_type": "text"
      },
      "source": [
        "#**Understanding Recurrent Neural Networks (Using Tensorflow)**\n",
        "\n",
        "RNN are generally suited for tasks which require previous 'context' to make future predictions.\n",
        "\n",
        "Problems where the sequence or order of the events is really important for predicting the next event are usually tackled by Recurrent Neural Networks or RNN.\n",
        "\n",
        "USES of RNN: Speech recognition, language translation, stock market price prediction, music generation etc.\n",
        "\n",
        "Types of input and output sequences supported by RNN:\n",
        "1. Sequence to sequence (useful for time series analysis)\n",
        "2. Sequence to Vector (useful for sentiment scores)\n",
        "3. Vector to sequence (useful for image description)\n",
        "4. Delayed sequence to sequence \n",
        "\n",
        "I have divided this tutorial into 4 parts:\n",
        "\n",
        "Part1: We will create a basic Recurrent Neural Network\n",
        "\n",
        "Part2: We will understand Static unrolling through time\n",
        "\n",
        "Part3: We will understand dynamic unrolling through time\n",
        "\n",
        "Part4: Finally we will create a RNN to predict output one step in future using a data set created randomly"
      ]
    },
    {
      "cell_type": "markdown",
      "metadata": {
        "id": "9KQZ6fuOmNT2",
        "colab_type": "text"
      },
      "source": [
        "But first, we will mount the Google Drive, create a new directory and install the dependencies, mainly Tensorflow (1.14)."
      ]
    },
    {
      "cell_type": "code",
      "metadata": {
        "id": "C8ocF1a10xkQ",
        "colab_type": "code",
        "colab": {}
      },
      "source": [
        "import os\n",
        "from google.colab import drive"
      ],
      "execution_count": 32,
      "outputs": []
    },
    {
      "cell_type": "code",
      "metadata": {
        "id": "-INMnqMc00bs",
        "colab_type": "code",
        "colab": {
          "base_uri": "https://localhost:8080/",
          "height": 55
        },
        "outputId": "a61faadb-638c-4b3e-b1ae-b80f30f37a9b"
      },
      "source": [
        "#mounting google drive\n",
        "drive.mount ('/content/abc')"
      ],
      "execution_count": 33,
      "outputs": [
        {
          "output_type": "stream",
          "text": [
            "Drive already mounted at /content/abc; to attempt to forcibly remount, call drive.mount(\"/content/abc\", force_remount=True).\n"
          ],
          "name": "stdout"
        }
      ]
    },
    {
      "cell_type": "code",
      "metadata": {
        "id": "aWu6V3W01LfJ",
        "colab_type": "code",
        "colab": {}
      },
      "source": [
        "os.chdir('/content/sample_data')"
      ],
      "execution_count": 34,
      "outputs": []
    },
    {
      "cell_type": "code",
      "metadata": {
        "id": "apvdXj751Nyo",
        "colab_type": "code",
        "colab": {
          "base_uri": "https://localhost:8080/",
          "height": 35
        },
        "outputId": "0eafc257-d2fb-4482-dfb1-a4a921fa18b5"
      },
      "source": [
        "mkdir rnn1"
      ],
      "execution_count": 35,
      "outputs": [
        {
          "output_type": "stream",
          "text": [
            "mkdir: cannot create directory ‘rnn1’: File exists\n"
          ],
          "name": "stdout"
        }
      ]
    },
    {
      "cell_type": "code",
      "metadata": {
        "id": "zmNT_ADe1T38",
        "colab_type": "code",
        "colab": {
          "base_uri": "https://localhost:8080/",
          "height": 35
        },
        "outputId": "1520a6fe-675f-4c04-926c-1b2c053e2368"
      },
      "source": [
        "cd rnn1"
      ],
      "execution_count": 36,
      "outputs": [
        {
          "output_type": "stream",
          "text": [
            "/content/sample_data/rnn1\n"
          ],
          "name": "stdout"
        }
      ]
    },
    {
      "cell_type": "code",
      "metadata": {
        "id": "rvgekPUqrMkv",
        "colab_type": "code",
        "colab": {}
      },
      "source": [
        "pip install tensorflow==1.14"
      ],
      "execution_count": null,
      "outputs": []
    },
    {
      "cell_type": "code",
      "metadata": {
        "id": "VQviH5zN0wl6",
        "colab_type": "code",
        "colab": {
          "base_uri": "https://localhost:8080/",
          "height": 36
        },
        "outputId": "4c8eeeba-44b5-4ce2-a99f-10964be3ac5c"
      },
      "source": [
        "pwd"
      ],
      "execution_count": 37,
      "outputs": [
        {
          "output_type": "execute_result",
          "data": {
            "application/vnd.google.colaboratory.intrinsic": {
              "type": "string"
            },
            "text/plain": [
              "'/content/sample_data/rnn1'"
            ]
          },
          "metadata": {
            "tags": []
          },
          "execution_count": 37
        }
      ]
    },
    {
      "cell_type": "code",
      "metadata": {
        "id": "2B55T85mulqo",
        "colab_type": "code",
        "colab": {}
      },
      "source": [
        "import numpy as np"
      ],
      "execution_count": 38,
      "outputs": []
    },
    {
      "cell_type": "code",
      "metadata": {
        "id": "620HA7uZJjhN",
        "colab_type": "code",
        "colab": {}
      },
      "source": [
        "import tensorflow as tf"
      ],
      "execution_count": 39,
      "outputs": []
    },
    {
      "cell_type": "markdown",
      "metadata": {
        "id": "ifuGP1a8iKNF",
        "colab_type": "text"
      },
      "source": [
        "**Creating a basic RNN:**\n",
        "\n",
        "Suppose we have a RNN with just one neuron. At each time step t , this recurrent neuron receives the inputs x(t) as well as its own output from the previous time step, y(t–1). \n",
        "\n",
        "Each recurrent neuron has two set of weights, one for the input x(t)and another one for the output y(t-1) from the previous time step.\n",
        "\n",
        "A single recurrent neuron (or a layer of recurrent neurons) is a very basic *cell*. In the case of the basic cell we are going to discuss, the\n",
        "output is simply equal to the state, but in more complex cells this is not always the case. \n",
        "\n",
        "In the below mentioned basic implementation of RNN, we are not using any Tensorflow's RNN operation. Here we are taking an RNN composed of a layer of 5 recurrent neurons, the RNN runs only for two time steps, taking an input feature vector of length 3 at every time step. The activation function that we are using is Tanh. \n",
        "\n",
        "\n"
      ]
    },
    {
      "cell_type": "code",
      "metadata": {
        "id": "HzlyR9FCJwYO",
        "colab_type": "code",
        "colab": {}
      },
      "source": [
        "#Creating the graph for RNN from scratch\n",
        "n_inputs=3 #input feature vector of size 3\n",
        "n_neurons=5 # number of recurrent neurons"
      ],
      "execution_count": 40,
      "outputs": []
    },
    {
      "cell_type": "code",
      "metadata": {
        "id": "yiN0LPa1WPox",
        "colab_type": "code",
        "colab": {}
      },
      "source": [
        "X0 = tf.placeholder(tf.float32, [None, n_inputs]) # a place holder for feature vector at time t=0\n",
        "X1 = tf.placeholder(tf.float32, [None, n_inputs]) # a placeholder for feature vector at time t=1"
      ],
      "execution_count": 41,
      "outputs": []
    },
    {
      "cell_type": "code",
      "metadata": {
        "id": "77BgotqWWMhr",
        "colab_type": "code",
        "colab": {}
      },
      "source": [
        "#declaring the weight and bias variables and same weights and bias are shard by both the layers\n",
        "Wx = tf.Variable(tf.random_normal(shape=[n_inputs, n_neurons],dtype=tf.float32))\n",
        "Wy = tf.Variable(tf.random_normal(shape=[n_neurons,n_neurons],dtype=tf.float32))\n",
        "b = tf.Variable(tf.zeros([1, n_neurons], dtype=tf.float32))"
      ],
      "execution_count": 42,
      "outputs": []
    },
    {
      "cell_type": "code",
      "metadata": {
        "id": "kCp7wRIYYwEu",
        "colab_type": "code",
        "colab": {}
      },
      "source": [
        "#Using the tanh activation function\n",
        "Y0 = tf.tanh(tf.matmul(X0, Wx) + b)\n",
        "Y1 = tf.tanh(tf.matmul(Y0, Wy) + tf.matmul(X1, Wx) + b)# the output from the layer at t=0 is fed as an input at t=1"
      ],
      "execution_count": 43,
      "outputs": []
    },
    {
      "cell_type": "code",
      "metadata": {
        "id": "aza7aGFbY0On",
        "colab_type": "code",
        "colab": {}
      },
      "source": [
        "init = tf.global_variables_initializer() #initilizing the variables"
      ],
      "execution_count": 44,
      "outputs": []
    },
    {
      "cell_type": "code",
      "metadata": {
        "id": "mirH5ov0Y1TJ",
        "colab_type": "code",
        "colab": {}
      },
      "source": [
        "#EXECUTION\n",
        "import numpy as np\n",
        "# Mini-batch:        instance 0,instance 1,instance 2,instance 3\n",
        "X0_batch = np.array([[0, 1, 2], [3, 4, 5], [6, 7, 8], [9, 0, 1]]) # t = 0\n",
        "X1_batch = np.array([[9, 8, 7], [0, 0, 0], [6, 5, 4], [3, 2, 1]]) # t = 1\n",
        "with tf.Session() as sess:\n",
        "  init.run()\n",
        "  Y0_val, Y1_val = sess.run([Y0, Y1], feed_dict={X0: X0_batch, X1: X1_batch})\n",
        " "
      ],
      "execution_count": 46,
      "outputs": []
    },
    {
      "cell_type": "code",
      "metadata": {
        "id": "fkWbMTnuZdOt",
        "colab_type": "code",
        "colab": {
          "base_uri": "https://localhost:8080/",
          "height": 90
        },
        "outputId": "c1079d6f-216e-4892-ba81-547abb5180e2"
      },
      "source": [
        "#Printing output of the network at t=0 time step\n",
        "print(Y0_val) "
      ],
      "execution_count": 47,
      "outputs": [
        {
          "output_type": "stream",
          "text": [
            "[[-0.83499384  0.24517247 -0.3175346   0.9090766  -0.99879515]\n",
            " [-0.46458378 -0.999999   -0.9734532   0.50397605 -1.        ]\n",
            " [ 0.19557235 -1.         -0.9993015  -0.3909621  -1.        ]\n",
            " [ 1.         -1.         -0.99735075 -1.         -0.99999934]]\n"
          ],
          "name": "stdout"
        }
      ]
    },
    {
      "cell_type": "code",
      "metadata": {
        "id": "nE48BMT2ZyGj",
        "colab_type": "code",
        "colab": {
          "base_uri": "https://localhost:8080/",
          "height": 90
        },
        "outputId": "fcdb14c8-b214-44e1-a13d-22e7ef9be1d2"
      },
      "source": [
        "#Printing output of the network at t=0 time step\n",
        "print(Y1_val)"
      ],
      "execution_count": 48,
      "outputs": [
        {
          "output_type": "stream",
          "text": [
            "[[ 0.96480036 -1.         -0.99999624 -0.9995012  -1.        ]\n",
            " [-0.34435102 -0.08271855  0.05902134 -0.17227595  0.9225421 ]\n",
            " [ 0.9857133  -1.         -0.99145603 -0.994587   -1.        ]\n",
            " [ 0.96987844 -0.9999985  -0.38697344 -0.9013631  -0.99991846]]\n"
          ],
          "name": "stdout"
        }
      ]
    },
    {
      "cell_type": "markdown",
      "metadata": {
        "id": "qEhYIfdD5hYa",
        "colab_type": "text"
      },
      "source": [
        "The above example explains just the basic concept and it is not very feasible practically as you have to declare input placeholders at each time step, the output placeholders and the respective cell calculation. We can create the same model using Tensorflow's RNN operations.\n",
        "\n",
        "**Static unrolling through time** \n",
        "\n",
        "The static_rnn() function creates an unrolled RNN network by chaining cells. \n",
        "\n",
        "Syntax:\n",
        "\n",
        "basic_cell = tf.contrib.rnn.BasicRNNCell(num_units=n_neurons)\n",
        "\n",
        "output_seqs, states = tf.contrib.rnn.static_rnn(\n",
        "        basic_cell, X , dtype=tf.float32)\n",
        "\n",
        "Here, n_neurons is number of neuron in each cell, and X is the input tensor.\n",
        "The static_rnn() function returns\n",
        "two objects. The first is a Python list containing the output tensors for each time step. The second is a tensor containing the final states of the network. When you are using basic cells, the final state is simply equal to the last output.\n",
        "\n"
      ]
    },
    {
      "cell_type": "code",
      "metadata": {
        "id": "weiQEAKslksw",
        "colab_type": "code",
        "colab": {}
      },
      "source": [
        "tf.reset_default_graph()"
      ],
      "execution_count": 68,
      "outputs": []
    },
    {
      "cell_type": "code",
      "metadata": {
        "id": "kcR2X0F5tM1J",
        "colab_type": "code",
        "colab": {}
      },
      "source": [
        "n_steps=2 #declaring number of steps"
      ],
      "execution_count": 69,
      "outputs": []
    },
    {
      "cell_type": "code",
      "metadata": {
        "id": "1ocPKGwEZ__W",
        "colab_type": "code",
        "colab": {}
      },
      "source": [
        "X_1 = tf.placeholder(tf.float32, [None, n_steps, n_inputs]) #single placeholder of shape [None, n_steps, n_inputs], here the first dimension is the mini batch size\n",
        "X_seqs = tf.unstack(tf.transpose(X_1, perm=[1, 0, 2])) # see 'Note'\n",
        "basic_cell = tf.contrib.rnn.BasicRNNCell(num_units=n_neurons)#Declare the number of neurons for a sinle RNN cells\n",
        "output_seqs, states = tf.contrib.rnn.static_rnn(basic_cell, X_seqs, dtype=tf.float32)\n",
        "outputs = tf.transpose(tf.stack(output_seqs), perm=[1, 0, 2])\n",
        "\n",
        "\"\"\"\n",
        "Note:\n",
        "Here the RNN will takes a single input placeholder of shape [None, n_steps, n_inputs] \n",
        "where the first dimension is the mini-batch size(denoted by None). Then it extracts \n",
        "the list of input sequences for each time step. X_seqs is a Python list of n_steps \n",
        "tensors of shape [None, n_inputs], where once again the first dimension is the mini-batch size.\n",
        "To do this, we first swap the first two dimensions using the transpose() function, \n",
        "so that the time steps are now the first dimension. Then we extract a Python list \n",
        "of tensors along the first dimension (i.e., one tensor per time step) using the unstack() function. \n",
        "Finally, we merge all the output tensors into a single tensor using the\n",
        "stack() function, and we swap the first two dimensions to get a final outputs tensor\n",
        "of shape [None, n_steps, n_neurons] (again the first dimension is the mini-batch\n",
        "size).\n",
        "\"\"\"\n"
      ],
      "execution_count": null,
      "outputs": []
    },
    {
      "cell_type": "code",
      "metadata": {
        "id": "u4pPS2zS2Ehz",
        "colab_type": "code",
        "colab": {}
      },
      "source": [
        "#Feeding an single tensor: batch of 4, number of steps=2 and input feature vector size=3\n",
        "X_batch = np.array([\n",
        "                    # t = 0     t = 1\n",
        "                    [[0, 1, 2], [9, 8, 7]], # instance 0\n",
        "                    [[3, 4, 5], [0, 0, 0]], # instance 1\n",
        "                    [[6, 7, 8], [6, 5, 4]], # instance 2\n",
        "                    [[9, 0, 1], [3, 2, 1]], # instance 3\n",
        "                    ])\n"
      ],
      "execution_count": 71,
      "outputs": []
    },
    {
      "cell_type": "code",
      "metadata": {
        "id": "D34nEtEIxdlb",
        "colab_type": "code",
        "colab": {
          "base_uri": "https://localhost:8080/",
          "height": 35
        },
        "outputId": "56c6a4a0-369e-46fd-b1a2-f5d4ef49f7d7"
      },
      "source": [
        "X_batch.shape # checking the shape of X_batch"
      ],
      "execution_count": 72,
      "outputs": [
        {
          "output_type": "execute_result",
          "data": {
            "text/plain": [
              "(4, 2, 3)"
            ]
          },
          "metadata": {
            "tags": []
          },
          "execution_count": 72
        }
      ]
    },
    {
      "cell_type": "code",
      "metadata": {
        "id": "9t5sR6xYxRXA",
        "colab_type": "code",
        "colab": {}
      },
      "source": [
        "init1 = tf.global_variables_initializer() #initilizing the variables"
      ],
      "execution_count": 73,
      "outputs": []
    },
    {
      "cell_type": "code",
      "metadata": {
        "id": "J1irPFIh3EYj",
        "colab_type": "code",
        "colab": {}
      },
      "source": [
        "#EXECUTION:\n",
        "with tf.Session() as sess:\n",
        "  init1.run()\n",
        "  outputs_val = outputs.eval(feed_dict={X_1: X_batch})"
      ],
      "execution_count": 74,
      "outputs": []
    },
    {
      "cell_type": "code",
      "metadata": {
        "id": "dvqgyzzK2VHB",
        "colab_type": "code",
        "colab": {
          "base_uri": "https://localhost:8080/",
          "height": 219
        },
        "outputId": "102235af-1f44-4875-e2bf-096ff1dcc5f5"
      },
      "source": [
        "#Here is the output for each each iteration, each step, and all neurons\n",
        "print (outputs_val)"
      ],
      "execution_count": 75,
      "outputs": [
        {
          "output_type": "stream",
          "text": [
            "[[[-0.8436423  -0.2649301   0.8435884  -0.5788201  -0.79372996]\n",
            "  [-0.9959689   0.8765341   1.         -0.31685385 -0.63717246]]\n",
            "\n",
            " [[-0.99085104  0.22204585  0.9999338  -0.7543069  -0.8608555 ]\n",
            "  [-0.28061047 -0.48123798 -0.85178286 -0.3478616  -0.84814835]]\n",
            "\n",
            " [[-0.9995021   0.61877495  1.         -0.86301994 -0.9072661 ]\n",
            "  [-0.9805267   0.5748377   0.9999386  -0.53795743 -0.46237117]]\n",
            "\n",
            " [[ 0.99740344  0.99982435  0.9999622  -0.58008516  0.9900611 ]\n",
            "  [-0.11982673  0.96803933  0.98312575 -0.38467655  0.8447213 ]]]\n"
          ],
          "name": "stdout"
        }
      ]
    },
    {
      "cell_type": "markdown",
      "metadata": {
        "id": "HDelpB-U5c0g",
        "colab_type": "text"
      },
      "source": [
        "The static_rnn() function still creates a graph with a  cell for each time step, which can consume a lot of memory if the dataset is too large as the graph will get very big.\n",
        "\n",
        "Fortunately we have a better option.\n",
        "\n",
        "**Dynamic Unrolling Through Time**\n",
        "\n",
        "dynamic_rnn() functions utilizes the while_loop() operation to run over the cell the appropriate number of times. Also there is no need to stack(), unstack(), or transpose() as we did in static_rnn().\n",
        "\n",
        "It requires input of the shape [None, n_steps, n_inputs] and provides output of the shape [None, n_steps, n_neurons].\n",
        "\n"
      ]
    },
    {
      "cell_type": "code",
      "metadata": {
        "id": "0EPQNSsGAFfS",
        "colab_type": "code",
        "colab": {}
      },
      "source": [
        "tf.reset_default_graph()"
      ],
      "execution_count": 76,
      "outputs": []
    },
    {
      "cell_type": "code",
      "metadata": {
        "id": "JiKLyFsC5eTb",
        "colab_type": "code",
        "colab": {
          "base_uri": "https://localhost:8080/",
          "height": 129
        },
        "outputId": "749f343d-e779-449e-b69c-0b19beed9f8d"
      },
      "source": [
        "#Placeholder for input tensor\n",
        "X_2 = tf.placeholder(tf.float32, [None, n_steps, n_inputs])\n",
        "\n",
        "basic_cell = tf.contrib.rnn.BasicRNNCell(num_units=n_neurons)\n",
        "outputs, states = tf.nn.dynamic_rnn(basic_cell, X_2, dtype=tf.float32)#Dynamic_rnn"
      ],
      "execution_count": 77,
      "outputs": [
        {
          "output_type": "stream",
          "text": [
            "WARNING:tensorflow:From <ipython-input-77-e973efbf7c02>:4: dynamic_rnn (from tensorflow.python.ops.rnn) is deprecated and will be removed in a future version.\n",
            "Instructions for updating:\n",
            "Please use `keras.layers.RNN(cell)`, which is equivalent to this API\n",
            "WARNING:tensorflow:Entity <bound method BasicRNNCell.call of <tensorflow.python.ops.rnn_cell_impl.BasicRNNCell object at 0x7fd1f16a0cc0>> could not be transformed and will be executed as-is. Please report this to the AutgoGraph team. When filing the bug, set the verbosity to 10 (on Linux, `export AUTOGRAPH_VERBOSITY=10`) and attach the full output. Cause: converting <bound method BasicRNNCell.call of <tensorflow.python.ops.rnn_cell_impl.BasicRNNCell object at 0x7fd1f16a0cc0>>: AssertionError: Bad argument number for Name: 3, expecting 4\n",
            "WARNING: Entity <bound method BasicRNNCell.call of <tensorflow.python.ops.rnn_cell_impl.BasicRNNCell object at 0x7fd1f16a0cc0>> could not be transformed and will be executed as-is. Please report this to the AutgoGraph team. When filing the bug, set the verbosity to 10 (on Linux, `export AUTOGRAPH_VERBOSITY=10`) and attach the full output. Cause: converting <bound method BasicRNNCell.call of <tensorflow.python.ops.rnn_cell_impl.BasicRNNCell object at 0x7fd1f16a0cc0>>: AssertionError: Bad argument number for Name: 3, expecting 4\n"
          ],
          "name": "stdout"
        }
      ]
    },
    {
      "cell_type": "code",
      "metadata": {
        "id": "UpgsRW3UTpu5",
        "colab_type": "code",
        "colab": {}
      },
      "source": [
        "init3 = tf.global_variables_initializer() #initilizing the variables"
      ],
      "execution_count": 78,
      "outputs": []
    },
    {
      "cell_type": "code",
      "metadata": {
        "id": "P42rA7KnAJ4n",
        "colab_type": "code",
        "colab": {}
      },
      "source": [
        "#EXECUTION\n",
        "with tf.Session() as sess1:\n",
        "  init3.run()\n",
        "  outputs_val = outputs.eval(feed_dict={X_2: X_batch})"
      ],
      "execution_count": 80,
      "outputs": []
    },
    {
      "cell_type": "code",
      "metadata": {
        "id": "X9Aak2tOBVnL",
        "colab_type": "code",
        "colab": {
          "base_uri": "https://localhost:8080/",
          "height": 219
        },
        "outputId": "ede47bfe-9746-4140-d33a-ca3526685b0d"
      },
      "source": [
        "print(outputs_val)"
      ],
      "execution_count": 81,
      "outputs": [
        {
          "output_type": "stream",
          "text": [
            "[[[-0.7474698  -0.3858245   0.9194507  -0.79767597 -0.74641675]\n",
            "  [-0.99998975 -0.99999696  0.98422736  0.37594968 -0.63690674]]\n",
            "\n",
            " [[-0.9981782  -0.98752016  0.99448746 -0.9065597  -0.90608793]\n",
            "  [ 0.5880843  -0.8364257  -0.28693894  0.6155394  -0.2958013 ]]\n",
            "\n",
            " [[-0.99998844 -0.9998221   0.9996358  -0.9582083  -0.96711373]\n",
            "  [-0.9978003  -0.9999169   0.69242346  0.75910866 -0.37223786]]\n",
            "\n",
            " [[-0.97489166 -0.999383   -0.9999343   0.9996996   0.99800324]\n",
            "  [-0.8714712  -0.99199444 -0.82703465  0.56185526 -0.05533716]]]\n"
          ],
          "name": "stdout"
        }
      ]
    },
    {
      "cell_type": "markdown",
      "metadata": {
        "id": "X0lC5qW5j5dI",
        "colab_type": "text"
      },
      "source": [
        "Now since we have a basic understanding of how an RNN works and how code can be written in tensorflow we now move ahead and create an RNN on a dummy data set to predict a value one time-step ahead in future.\n",
        "\n",
        "First we create a dummy data sets.\n",
        "\n",
        "\n"
      ]
    },
    {
      "cell_type": "code",
      "metadata": {
        "id": "_b9stShdyIUO",
        "colab_type": "code",
        "colab": {}
      },
      "source": [
        "#Creating a dataset\n",
        "import numpy as np\n",
        "import matplotlib.pyplot as plt\n",
        "%matplotlib inline\n",
        "data=np.linspace(1,10,120)"
      ],
      "execution_count": 90,
      "outputs": []
    },
    {
      "cell_type": "code",
      "metadata": {
        "id": "nSX1vJNCyP0N",
        "colab_type": "code",
        "colab": {
          "base_uri": "https://localhost:8080/",
          "height": 458
        },
        "outputId": "85f84d92-3089-4bc5-c34b-ba05ef3395c6"
      },
      "source": [
        "data"
      ],
      "execution_count": 91,
      "outputs": [
        {
          "output_type": "execute_result",
          "data": {
            "text/plain": [
              "array([ 1.        ,  1.07563025,  1.1512605 ,  1.22689076,  1.30252101,\n",
              "        1.37815126,  1.45378151,  1.52941176,  1.60504202,  1.68067227,\n",
              "        1.75630252,  1.83193277,  1.90756303,  1.98319328,  2.05882353,\n",
              "        2.13445378,  2.21008403,  2.28571429,  2.36134454,  2.43697479,\n",
              "        2.51260504,  2.58823529,  2.66386555,  2.7394958 ,  2.81512605,\n",
              "        2.8907563 ,  2.96638655,  3.04201681,  3.11764706,  3.19327731,\n",
              "        3.26890756,  3.34453782,  3.42016807,  3.49579832,  3.57142857,\n",
              "        3.64705882,  3.72268908,  3.79831933,  3.87394958,  3.94957983,\n",
              "        4.02521008,  4.10084034,  4.17647059,  4.25210084,  4.32773109,\n",
              "        4.40336134,  4.4789916 ,  4.55462185,  4.6302521 ,  4.70588235,\n",
              "        4.78151261,  4.85714286,  4.93277311,  5.00840336,  5.08403361,\n",
              "        5.15966387,  5.23529412,  5.31092437,  5.38655462,  5.46218487,\n",
              "        5.53781513,  5.61344538,  5.68907563,  5.76470588,  5.84033613,\n",
              "        5.91596639,  5.99159664,  6.06722689,  6.14285714,  6.21848739,\n",
              "        6.29411765,  6.3697479 ,  6.44537815,  6.5210084 ,  6.59663866,\n",
              "        6.67226891,  6.74789916,  6.82352941,  6.89915966,  6.97478992,\n",
              "        7.05042017,  7.12605042,  7.20168067,  7.27731092,  7.35294118,\n",
              "        7.42857143,  7.50420168,  7.57983193,  7.65546218,  7.73109244,\n",
              "        7.80672269,  7.88235294,  7.95798319,  8.03361345,  8.1092437 ,\n",
              "        8.18487395,  8.2605042 ,  8.33613445,  8.41176471,  8.48739496,\n",
              "        8.56302521,  8.63865546,  8.71428571,  8.78991597,  8.86554622,\n",
              "        8.94117647,  9.01680672,  9.09243697,  9.16806723,  9.24369748,\n",
              "        9.31932773,  9.39495798,  9.47058824,  9.54621849,  9.62184874,\n",
              "        9.69747899,  9.77310924,  9.8487395 ,  9.92436975, 10.        ])"
            ]
          },
          "metadata": {
            "tags": []
          },
          "execution_count": 91
        }
      ]
    },
    {
      "cell_type": "code",
      "metadata": {
        "id": "lDNQU8xmIbbP",
        "colab_type": "code",
        "colab": {}
      },
      "source": [
        "data_sin=np.sin(data)"
      ],
      "execution_count": 92,
      "outputs": []
    },
    {
      "cell_type": "markdown",
      "metadata": {
        "id": "FXLBWHaQatJs",
        "colab_type": "text"
      },
      "source": [
        "So, data_sin is our dataset that we will use for analyzing the working of the RNN.\n",
        "\n",
        "Here is how it looks when we plot it using Matplotlib library."
      ]
    },
    {
      "cell_type": "code",
      "metadata": {
        "id": "9XFcnA3nbBTJ",
        "colab_type": "code",
        "colab": {
          "base_uri": "https://localhost:8080/",
          "height": 283
        },
        "outputId": "74ef9d36-7de9-48bd-c56b-5c0f632d5407"
      },
      "source": [
        "plt.plot(data,data_sin)"
      ],
      "execution_count": 93,
      "outputs": [
        {
          "output_type": "execute_result",
          "data": {
            "text/plain": [
              "[<matplotlib.lines.Line2D at 0x7fd1f11f55f8>]"
            ]
          },
          "metadata": {
            "tags": []
          },
          "execution_count": 93
        },
        {
          "output_type": "display_data",
          "data": {
            "image/png": "[encoded data removed]",
            "text/plain": [
              "<Figure size 432x288 with 1 Axes>"
            ]
          },
          "metadata": {
            "tags": [],
            "needs_background": "light"
          }
        }
      ]
    },
    {
      "cell_type": "markdown",
      "metadata": {
        "id": "_pGxTw_wa_wd",
        "colab_type": "text"
      },
      "source": [
        "Now lets create a simple function to get us multiple randomly selected instances from the data set we created above. These instances are a randomly selected sequence of 20 consecutive values from the data, and the target (Y_batch) sequence is the same as the input sequence (X_batch), except it is shifted by one time step into\n",
        "the future. "
      ]
    },
    {
      "cell_type": "code",
      "metadata": {
        "id": "K5aRABCqDnBX",
        "colab_type": "code",
        "colab": {}
      },
      "source": [
        "#creating a function to return random X_batch and Y_batch\n",
        "import random\n",
        "def ret_x_y():\n",
        "  ran=random.choice(data_sin[:-20])\n",
        "  itemindex = np.where(data_sin==ran)\n",
        "  X_batch = data_sin[itemindex[0][0]:itemindex[0][0]+20].reshape((1,20,1))\n",
        "  Y_batch = data_sin[itemindex[0][0]+1:(itemindex[0][0]+1)+20].reshape((1,20,1))\n",
        "  return X_batch,Y_batch"
      ],
      "execution_count": 94,
      "outputs": []
    },
    {
      "cell_type": "markdown",
      "metadata": {
        "id": "vW-adbpYflkY",
        "colab_type": "text"
      },
      "source": [
        "We will also create a new data instance that we can use to predict using our RNN model and compare the result."
      ]
    },
    {
      "cell_type": "code",
      "metadata": {
        "id": "moN2L-fV8Kae",
        "colab_type": "code",
        "colab": {}
      },
      "source": [
        "X_new=data[47:(47+20)]\n",
        "X_new_sin=np.sin(X_new)"
      ],
      "execution_count": 102,
      "outputs": []
    },
    {
      "cell_type": "code",
      "metadata": {
        "id": "_bf7XwVv-mFc",
        "colab_type": "code",
        "colab": {}
      },
      "source": [
        "X_new_sin=X_new_sin.reshape(1,20,1)"
      ],
      "execution_count": 103,
      "outputs": []
    },
    {
      "cell_type": "markdown",
      "metadata": {
        "id": "oiGSG7gGaKyI",
        "colab_type": "text"
      },
      "source": [
        "**Training to predict a time series**\n",
        "\n",
        "Let's now create the RNN architecture that we are going to use. We are basically trying to predict value one time step ahead in the future, for this we will train out RNN with multiple instances of data. Each instance will have data points from 20 contineous steps. Here, the input will have a shape [None, 20,1], since the input feature vector contains only one value. Also, we will get one output per time step corresponding to the input value."
      ]
    },
    {
      "cell_type": "code",
      "metadata": {
        "id": "D_O22xaCj_Yk",
        "colab_type": "code",
        "colab": {}
      },
      "source": [
        "tf.reset_default_graph()"
      ],
      "execution_count": 95,
      "outputs": []
    },
    {
      "cell_type": "code",
      "metadata": {
        "id": "AWYim7Ef0msq",
        "colab_type": "code",
        "colab": {}
      },
      "source": [
        "n_steps=20 #number of steps \n",
        "n_neurons=100\n",
        "n_inputs=1 #single input\n",
        "n_output=1 #single output"
      ],
      "execution_count": 96,
      "outputs": []
    },
    {
      "cell_type": "code",
      "metadata": {
        "id": "oJ-p-Loc3T3G",
        "colab_type": "code",
        "colab": {}
      },
      "source": [
        "#placeholders\n",
        "X=tf.placeholder(tf.float32,[None,n_steps,n_inputs])\n",
        "Y=tf.placeholder(tf.float32,[None,n_steps,n_output])\n"
      ],
      "execution_count": 97,
      "outputs": []
    },
    {
      "cell_type": "code",
      "metadata": {
        "id": "yI-bHbhzFExH",
        "colab_type": "code",
        "colab": {}
      },
      "source": [
        "#OutputProjectionWrapper\n",
        "cell = tf.contrib.rnn.OutputProjectionWrapper(tf.contrib.rnn.BasicRNNCell(num_units=n_neurons, activation=tf.nn.relu),output_size=n_output)\n",
        "outputs, states = tf.nn.dynamic_rnn(cell, X, dtype=tf.float32)\n",
        "\n",
        "\"\"\"\n",
        "Note: Here we are using OutputProjectionWrapper because we actually want a single output value at each time \n",
        "steps otherwise we will get an output vector of size 100 at each time step.\n",
        "\"\"\""
      ],
      "execution_count": null,
      "outputs": []
    },
    {
      "cell_type": "markdown",
      "metadata": {
        "id": "ofjEQAGXeMQ_",
        "colab_type": "text"
      },
      "source": [
        "Now we will declare the Optimizer and the Loss function."
      ]
    },
    {
      "cell_type": "code",
      "metadata": {
        "id": "3PGMU5N9AjVp",
        "colab_type": "code",
        "colab": {}
      },
      "source": [
        "#Cost function and Optimizer\n",
        "learning_rate=0.001\n",
        "\n",
        "loss = tf.reduce_mean(tf.square(outputs - Y))\n",
        "optimizer = tf.train.AdamOptimizer(learning_rate=learning_rate)\n",
        "training_op = optimizer.minimize(loss)"
      ],
      "execution_count": 99,
      "outputs": []
    },
    {
      "cell_type": "code",
      "metadata": {
        "id": "JR1N01WfTaZN",
        "colab_type": "code",
        "colab": {}
      },
      "source": [
        "#initilizing the variables\n",
        "init4 = tf.global_variables_initializer()"
      ],
      "execution_count": 100,
      "outputs": []
    },
    {
      "cell_type": "code",
      "metadata": {
        "id": "l2COkZYMTfF4",
        "colab_type": "code",
        "colab": {}
      },
      "source": [
        "#EXCUTION PHASE\n",
        "n_iterations =5000\n",
        "#batch_size = 50\n",
        "\n",
        "with tf.Session() as sess:\n",
        "  init4.run()\n",
        "  for iteration in range(n_iterations):\n",
        "    X_batch, Y_batch = ret_x_y() # fetch the next training batch\n",
        "    sess.run(training_op, feed_dict={X: X_batch, Y: Y_batch})\n",
        "    mse = loss.eval(feed_dict={X: X_batch, Y: Y_batch})\n",
        "    print(iteration, \"\\tMSE:\", mse)\n",
        "  y_pred = sess.run(outputs, feed_dict={X: X_new_sin})  \n",
        "\n"
      ],
      "execution_count": null,
      "outputs": []
    },
    {
      "cell_type": "markdown",
      "metadata": {
        "id": "z8Up3qxuf30y",
        "colab_type": "text"
      },
      "source": [
        "So, we trained our RNN on 5000 instances of the data set and also predicted values for a data instance we created earlier. The graph below shows the predicted sequence."
      ]
    },
    {
      "cell_type": "code",
      "metadata": {
        "id": "BUxGuSAIgGfd",
        "colab_type": "code",
        "colab": {
          "base_uri": "https://localhost:8080/",
          "height": 283
        },
        "outputId": "8bf29d73-fb5e-4a8e-95a8-2ff6e33a01a8"
      },
      "source": [
        "plt.plot(data[48:68],np.sin(data[48:68]), \"bo\", markersize=12, label=\"Target\")\n",
        "plt.plot(data[47:(47+20)],np.sin(data[47:(47+20)]), \"ko\", markersize=10, label=\"Instance\")\n",
        "plt.plot(data[48:68], y_pred.flatten(), \"r.\", markersize=10, label=\"Prediction\")\n",
        "plt.legend()"
      ],
      "execution_count": 147,
      "outputs": [
        {
          "output_type": "execute_result",
          "data": {
            "text/plain": [
              "<matplotlib.legend.Legend at 0x7fd1ef78aa58>"
            ]
          },
          "metadata": {
            "tags": []
          },
          "execution_count": 147
        },
        {
          "output_type": "display_data",
          "data": {
            "image/png": "[encoded data removed]",
            "text/plain": [
              "<Figure size 432x288 with 1 Axes>"
            ]
          },
          "metadata": {
            "tags": [],
            "needs_background": "light"
          }
        }
      ]
    },
    {
      "cell_type": "markdown",
      "metadata": {
        "id": "vlWCM0vrhRN4",
        "colab_type": "text"
      },
      "source": [
        "References: \"Hands-On Machine Learning with Scikit-Learn & Tensorflow\" By Aurélien Géron"
      ]
    }
  ]
}